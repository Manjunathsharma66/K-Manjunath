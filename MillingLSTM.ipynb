{
  "nbformat": 4,
  "nbformat_minor": 0,
  "metadata": {
    "colab": {
      "name": "MillingLSTM.ipynb",
      "provenance": [],
      "collapsed_sections": [],
      "authorship_tag": "ABX9TyMS/Yb7Lq+FvJTXzzWvSovQ",
      "include_colab_link": true
    },
    "kernelspec": {
      "display_name": "Python 3",
      "name": "python3"
    },
    "language_info": {
      "name": "python"
    }
  },
  "cells": [
    {
      "cell_type": "markdown",
      "metadata": {
        "id": "view-in-github",
        "colab_type": "text"
      },
      "source": [
        "<a href=\"https://colab.research.google.com/github/Manjunathsharma66/K-Manjunath/blob/main/MillingLSTM.ipynb\" target=\"_parent\"><img src=\"https://colab.research.google.com/assets/colab-badge.svg\" alt=\"Open In Colab\"/></a>"
      ]
    },
    {
      "cell_type": "code",
      "metadata": {
        "id": "TTocR48PZUq9"
      },
      "source": [
        "import numpy as np\n",
        "import pandas as pd\n",
        "import matplotlib.pyplot as plt\n",
        "import pyswarms as ps\n",
        "from pyswarms.utils.plotters import (plot_cost_history)\n",
        "from sklearn.model_selection import train_test_split"
      ],
      "execution_count": null,
      "outputs": []
    },
    {
      "cell_type": "code",
      "metadata": {
        "id": "y79lj29xZfDD"
      },
      "source": [
        "data = pd.read_csv('milling1.csv')\n"
      ],
      "execution_count": null,
      "outputs": []
    },
    {
      "cell_type": "code",
      "metadata": {
        "colab": {
          "base_uri": "https://localhost:8080/",
          "height": 419
        },
        "id": "AqcC6XVTZ5OY",
        "outputId": "e1d8360f-f9a6-4722-e9da-c76395bd5bc7"
      },
      "source": [
        "data"
      ],
      "execution_count": null,
      "outputs": [
        {
          "data": {
            "text/html": [
              "<div>\n",
              "<style scoped>\n",
              "    .dataframe tbody tr th:only-of-type {\n",
              "        vertical-align: middle;\n",
              "    }\n",
              "\n",
              "    .dataframe tbody tr th {\n",
              "        vertical-align: top;\n",
              "    }\n",
              "\n",
              "    .dataframe thead th {\n",
              "        text-align: right;\n",
              "    }\n",
              "</style>\n",
              "<table border=\"1\" class=\"dataframe\">\n",
              "  <thead>\n",
              "    <tr style=\"text-align: right;\">\n",
              "      <th></th>\n",
              "      <th>no</th>\n",
              "      <th>Spindle speed (rpm)</th>\n",
              "      <th>Feedrate</th>\n",
              "      <th>Feed per tooth (mm/tooth)</th>\n",
              "      <th>Cutting depth (mm)</th>\n",
              "      <th>Clamping torque of vise (N-m)</th>\n",
              "      <th>Accumulated removed volume per cutter (mm3)</th>\n",
              "      <th>Avg_Ra</th>\n",
              "    </tr>\n",
              "  </thead>\n",
              "  <tbody>\n",
              "    <tr>\n",
              "      <th>0</th>\n",
              "      <td>1</td>\n",
              "      <td>3000</td>\n",
              "      <td>240</td>\n",
              "      <td>0.02</td>\n",
              "      <td>0.5</td>\n",
              "      <td>18</td>\n",
              "      <td>0.0</td>\n",
              "      <td>0.468</td>\n",
              "    </tr>\n",
              "    <tr>\n",
              "      <th>1</th>\n",
              "      <td>2</td>\n",
              "      <td>2000</td>\n",
              "      <td>400</td>\n",
              "      <td>0.05</td>\n",
              "      <td>0.5</td>\n",
              "      <td>18</td>\n",
              "      <td>1.2</td>\n",
              "      <td>0.402</td>\n",
              "    </tr>\n",
              "    <tr>\n",
              "      <th>2</th>\n",
              "      <td>3</td>\n",
              "      <td>1000</td>\n",
              "      <td>320</td>\n",
              "      <td>0.08</td>\n",
              "      <td>0.5</td>\n",
              "      <td>18</td>\n",
              "      <td>3.2</td>\n",
              "      <td>0.346</td>\n",
              "    </tr>\n",
              "    <tr>\n",
              "      <th>3</th>\n",
              "      <td>4</td>\n",
              "      <td>3000</td>\n",
              "      <td>240</td>\n",
              "      <td>0.02</td>\n",
              "      <td>0.7</td>\n",
              "      <td>18</td>\n",
              "      <td>4.8</td>\n",
              "      <td>0.634</td>\n",
              "    </tr>\n",
              "    <tr>\n",
              "      <th>4</th>\n",
              "      <td>5</td>\n",
              "      <td>2000</td>\n",
              "      <td>400</td>\n",
              "      <td>0.05</td>\n",
              "      <td>0.7</td>\n",
              "      <td>18</td>\n",
              "      <td>6.5</td>\n",
              "      <td>0.590</td>\n",
              "    </tr>\n",
              "    <tr>\n",
              "      <th>...</th>\n",
              "      <td>...</td>\n",
              "      <td>...</td>\n",
              "      <td>...</td>\n",
              "      <td>...</td>\n",
              "      <td>...</td>\n",
              "      <td>...</td>\n",
              "      <td>...</td>\n",
              "      <td>...</td>\n",
              "    </tr>\n",
              "    <tr>\n",
              "      <th>148</th>\n",
              "      <td>149</td>\n",
              "      <td>2000</td>\n",
              "      <td>400</td>\n",
              "      <td>0.05</td>\n",
              "      <td>1.0</td>\n",
              "      <td>18</td>\n",
              "      <td>61.4</td>\n",
              "      <td>1.236</td>\n",
              "    </tr>\n",
              "    <tr>\n",
              "      <th>149</th>\n",
              "      <td>150</td>\n",
              "      <td>2100</td>\n",
              "      <td>420</td>\n",
              "      <td>0.05</td>\n",
              "      <td>1.0</td>\n",
              "      <td>18</td>\n",
              "      <td>65.4</td>\n",
              "      <td>1.140</td>\n",
              "    </tr>\n",
              "    <tr>\n",
              "      <th>150</th>\n",
              "      <td>151</td>\n",
              "      <td>1900</td>\n",
              "      <td>532</td>\n",
              "      <td>0.07</td>\n",
              "      <td>1.0</td>\n",
              "      <td>18</td>\n",
              "      <td>69.6</td>\n",
              "      <td>1.096</td>\n",
              "    </tr>\n",
              "    <tr>\n",
              "      <th>151</th>\n",
              "      <td>152</td>\n",
              "      <td>2000</td>\n",
              "      <td>560</td>\n",
              "      <td>0.07</td>\n",
              "      <td>1.0</td>\n",
              "      <td>18</td>\n",
              "      <td>74.9</td>\n",
              "      <td>1.135</td>\n",
              "    </tr>\n",
              "    <tr>\n",
              "      <th>152</th>\n",
              "      <td>153</td>\n",
              "      <td>2100</td>\n",
              "      <td>588</td>\n",
              "      <td>0.07</td>\n",
              "      <td>1.0</td>\n",
              "      <td>18</td>\n",
              "      <td>80.5</td>\n",
              "      <td>1.093</td>\n",
              "    </tr>\n",
              "  </tbody>\n",
              "</table>\n",
              "<p>153 rows × 8 columns</p>\n",
              "</div>"
            ],
            "text/plain": [
              "      no  ...  Avg_Ra\n",
              "0      1  ...   0.468\n",
              "1      2  ...   0.402\n",
              "2      3  ...   0.346\n",
              "3      4  ...   0.634\n",
              "4      5  ...   0.590\n",
              "..   ...  ...     ...\n",
              "148  149  ...   1.236\n",
              "149  150  ...   1.140\n",
              "150  151  ...   1.096\n",
              "151  152  ...   1.135\n",
              "152  153  ...   1.093\n",
              "\n",
              "[153 rows x 8 columns]"
            ]
          },
          "execution_count": 7,
          "metadata": {},
          "output_type": "execute_result"
        }
      ]
    },
    {
      "cell_type": "code",
      "metadata": {
        "id": "s7asoiriZm_9"
      },
      "source": [
        "from keras import Sequential\n",
        "from keras.layers import LSTM, Dropout, Dense , TimeDistributed, Activation\n",
        "import tensorflow as tf\n"
      ],
      "execution_count": null,
      "outputs": []
    },
    {
      "cell_type": "code",
      "metadata": {
        "id": "BYopUwdxZnCm"
      },
      "source": [
        "col_names = list(data.columns)"
      ],
      "execution_count": null,
      "outputs": []
    },
    {
      "cell_type": "code",
      "metadata": {
        "id": "iVoQMoPlZnFm"
      },
      "source": [
        "from sklearn.preprocessing import MinMaxScaler\n",
        "from sklearn import preprocessing\n",
        "mm_scaler = preprocessing.MinMaxScaler()\n",
        "df_1 = mm_scaler.fit_transform(data)\n",
        "\n",
        "df = pd.DataFrame(df_1, columns = col_names)"
      ],
      "execution_count": null,
      "outputs": []
    },
    {
      "cell_type": "code",
      "metadata": {
        "id": "A_r2JDIgZnIZ"
      },
      "source": [
        "sine_values = []\n",
        "steps = 1\n",
        "input_width = 5\n",
        "\n",
        "x = []\n",
        "y = []\n",
        "\n",
        "for i in range(0, df.shape[0], steps):\n",
        "  sine_values.append(df.at[i, 'Avg_Ra'])\n",
        "\n",
        "for i in range(0, len(sine_values) - input_width, steps):\n",
        "  x.append(sine_values[i: i+input_width])\n",
        "  y.append(sine_values[i + input_width])\n",
        "\n",
        "x = np.reshape(x,[-1, input_width,1])\n",
        "y = np.reshape(y,[-1,1])"
      ],
      "execution_count": null,
      "outputs": []
    },
    {
      "cell_type": "code",
      "metadata": {
        "id": "YdBNHuvnZnLL"
      },
      "source": [
        "trainX , testX, trainY, testY = train_test_split(x,y,test_size = 0.2, shuffle =False)"
      ],
      "execution_count": null,
      "outputs": []
    },
    {
      "cell_type": "code",
      "metadata": {
        "id": "v8CqtqfpZnN2"
      },
      "source": [
        "model  = Sequential()\n",
        "model.add(LSTM(16, return_sequences = False , input_shape=(None, 1)))\n",
        "model.add(Dense(1,activation='linear'))\n",
        "\n",
        "def root_mean_squared_error_loss(y_true, y_pred):\n",
        "    return tf.sqrt(tf.reduce_mean(tf.math.squared_difference(y_true, y_pred)))\n",
        "\n",
        "def r_square_loss(y_true,y_pred):\n",
        "  from keras import backend as K\n",
        "  SS_res = K.sum(K.square(y_true - y_pred))\n",
        "  SS_tot = K.sum(K.square(y_true - K.mean(y_true)))\n",
        "  return 1 - (1-SS_res/(SS_tot + K.epsilon()))"
      ],
      "execution_count": null,
      "outputs": []
    },
    {
      "cell_type": "code",
      "metadata": {
        "colab": {
          "base_uri": "https://localhost:8080/"
        },
        "id": "tkz-7sjvZnTV",
        "outputId": "50ba0011-4c1c-4203-edaf-8ce1f517ad69"
      },
      "source": [
        "model.compile(loss = root_mean_squared_error_loss , optimizer = 'sgd' , metrics=[root_mean_squared_error_loss,r_square_loss])\n",
        "model.summary()"
      ],
      "execution_count": null,
      "outputs": [
        {
          "name": "stdout",
          "output_type": "stream",
          "text": [
            "Model: \"sequential\"\n",
            "_________________________________________________________________\n",
            "Layer (type)                 Output Shape              Param #   \n",
            "=================================================================\n",
            "lstm (LSTM)                  (None, 16)                1152      \n",
            "_________________________________________________________________\n",
            "dense (Dense)                (None, 1)                 17        \n",
            "=================================================================\n",
            "Total params: 1,169\n",
            "Trainable params: 1,169\n",
            "Non-trainable params: 0\n",
            "_________________________________________________________________\n"
          ]
        }
      ]
    },
    {
      "cell_type": "code",
      "metadata": {
        "colab": {
          "base_uri": "https://localhost:8080/"
        },
        "id": "_FzcQAcfaZg5",
        "outputId": "fa756515-ec3a-4826-953f-f0bc6f0a26b5"
      },
      "source": [
        "historyNN = model.fit(trainX, trainY, batch_size = 50 , epochs = 100 , validation_split = 0.1)"
      ],
      "execution_count": null,
      "outputs": [
        {
          "name": "stdout",
          "output_type": "stream",
          "text": [
            "Epoch 1/100\n",
            "3/3 [==============================] - 3s 263ms/step - loss: 0.4640 - root_mean_squared_error_loss: 0.4494 - r_square_loss: 4.2733 - val_loss: 0.6487 - val_root_mean_squared_error_loss: 0.6487 - val_r_square_loss: 16.0319\n",
            "Epoch 2/100\n",
            "3/3 [==============================] - 0s 15ms/step - loss: 0.4028 - root_mean_squared_error_loss: 0.3789 - r_square_loss: 3.4143 - val_loss: 0.5821 - val_root_mean_squared_error_loss: 0.5821 - val_r_square_loss: 12.9100\n",
            "Epoch 3/100\n",
            "3/3 [==============================] - 0s 15ms/step - loss: 0.3513 - root_mean_squared_error_loss: 0.3265 - r_square_loss: 2.2023 - val_loss: 0.5235 - val_root_mean_squared_error_loss: 0.5235 - val_r_square_loss: 10.4391\n",
            "Epoch 4/100\n",
            "3/3 [==============================] - 0s 15ms/step - loss: 0.3047 - root_mean_squared_error_loss: 0.2639 - r_square_loss: 2.0424 - val_loss: 0.4662 - val_root_mean_squared_error_loss: 0.4662 - val_r_square_loss: 8.2801\n",
            "Epoch 5/100\n",
            "3/3 [==============================] - 0s 15ms/step - loss: 0.2679 - root_mean_squared_error_loss: 0.2514 - r_square_loss: 1.4326 - val_loss: 0.4150 - val_root_mean_squared_error_loss: 0.4150 - val_r_square_loss: 6.5624\n",
            "Epoch 6/100\n",
            "3/3 [==============================] - 0s 14ms/step - loss: 0.2382 - root_mean_squared_error_loss: 0.2296 - r_square_loss: 1.0069 - val_loss: 0.3837 - val_root_mean_squared_error_loss: 0.3837 - val_r_square_loss: 5.6086\n",
            "Epoch 7/100\n",
            "3/3 [==============================] - 0s 15ms/step - loss: 0.2225 - root_mean_squared_error_loss: 0.2063 - r_square_loss: 0.9353 - val_loss: 0.3590 - val_root_mean_squared_error_loss: 0.3590 - val_r_square_loss: 4.9103\n",
            "Epoch 8/100\n",
            "3/3 [==============================] - 0s 15ms/step - loss: 0.2107 - root_mean_squared_error_loss: 0.2178 - r_square_loss: 0.8733 - val_loss: 0.3383 - val_root_mean_squared_error_loss: 0.3383 - val_r_square_loss: 4.3602\n",
            "Epoch 9/100\n",
            "3/3 [==============================] - 0s 14ms/step - loss: 0.2042 - root_mean_squared_error_loss: 0.1775 - r_square_loss: 0.7836 - val_loss: 0.3260 - val_root_mean_squared_error_loss: 0.3260 - val_r_square_loss: 4.0492\n",
            "Epoch 10/100\n",
            "3/3 [==============================] - 0s 14ms/step - loss: 0.2011 - root_mean_squared_error_loss: 0.1879 - r_square_loss: 0.8738 - val_loss: 0.3225 - val_root_mean_squared_error_loss: 0.3225 - val_r_square_loss: 3.9632\n",
            "Epoch 11/100\n",
            "3/3 [==============================] - 0s 17ms/step - loss: 0.1992 - root_mean_squared_error_loss: 0.2089 - r_square_loss: 0.7790 - val_loss: 0.3023 - val_root_mean_squared_error_loss: 0.3023 - val_r_square_loss: 3.4804\n",
            "Epoch 12/100\n",
            "3/3 [==============================] - 0s 15ms/step - loss: 0.1952 - root_mean_squared_error_loss: 0.1886 - r_square_loss: 0.7188 - val_loss: 0.2934 - val_root_mean_squared_error_loss: 0.2934 - val_r_square_loss: 3.2783\n",
            "Epoch 13/100\n",
            "3/3 [==============================] - 0s 16ms/step - loss: 0.1916 - root_mean_squared_error_loss: 0.1806 - r_square_loss: 0.7775 - val_loss: 0.2799 - val_root_mean_squared_error_loss: 0.2799 - val_r_square_loss: 2.9842\n",
            "Epoch 14/100\n",
            "3/3 [==============================] - 0s 15ms/step - loss: 0.1917 - root_mean_squared_error_loss: 0.1901 - r_square_loss: 1.1141 - val_loss: 0.2620 - val_root_mean_squared_error_loss: 0.2620 - val_r_square_loss: 2.6140\n",
            "Epoch 15/100\n",
            "3/3 [==============================] - 0s 17ms/step - loss: 0.1897 - root_mean_squared_error_loss: 0.1781 - r_square_loss: 0.7196 - val_loss: 0.2695 - val_root_mean_squared_error_loss: 0.2695 - val_r_square_loss: 2.7668\n",
            "Epoch 16/100\n",
            "3/3 [==============================] - 0s 16ms/step - loss: 0.1889 - root_mean_squared_error_loss: 0.1836 - r_square_loss: 0.7311 - val_loss: 0.2606 - val_root_mean_squared_error_loss: 0.2606 - val_r_square_loss: 2.5865\n",
            "Epoch 17/100\n",
            "3/3 [==============================] - 0s 15ms/step - loss: 0.1880 - root_mean_squared_error_loss: 0.1789 - r_square_loss: 0.6718 - val_loss: 0.2674 - val_root_mean_squared_error_loss: 0.2674 - val_r_square_loss: 2.7242\n",
            "Epoch 18/100\n",
            "3/3 [==============================] - 0s 15ms/step - loss: 0.1845 - root_mean_squared_error_loss: 0.1520 - r_square_loss: 0.6439 - val_loss: 0.2618 - val_root_mean_squared_error_loss: 0.2618 - val_r_square_loss: 2.6115\n",
            "Epoch 19/100\n",
            "3/3 [==============================] - 0s 15ms/step - loss: 0.1849 - root_mean_squared_error_loss: 0.1958 - r_square_loss: 0.6991 - val_loss: 0.2548 - val_root_mean_squared_error_loss: 0.2548 - val_r_square_loss: 2.4729\n",
            "Epoch 20/100\n",
            "3/3 [==============================] - 0s 14ms/step - loss: 0.1843 - root_mean_squared_error_loss: 0.1744 - r_square_loss: 0.7276 - val_loss: 0.2678 - val_root_mean_squared_error_loss: 0.2678 - val_r_square_loss: 2.7318\n",
            "Epoch 21/100\n",
            "3/3 [==============================] - 0s 14ms/step - loss: 0.1813 - root_mean_squared_error_loss: 0.1556 - r_square_loss: 0.7161 - val_loss: 0.2545 - val_root_mean_squared_error_loss: 0.2545 - val_r_square_loss: 2.4672\n",
            "Epoch 22/100\n",
            "3/3 [==============================] - 0s 14ms/step - loss: 0.1815 - root_mean_squared_error_loss: 0.1652 - r_square_loss: 0.7321 - val_loss: 0.2634 - val_root_mean_squared_error_loss: 0.2634 - val_r_square_loss: 2.6437\n",
            "Epoch 23/100\n",
            "3/3 [==============================] - 0s 18ms/step - loss: 0.1801 - root_mean_squared_error_loss: 0.1690 - r_square_loss: 0.6410 - val_loss: 0.2595 - val_root_mean_squared_error_loss: 0.2595 - val_r_square_loss: 2.5653\n",
            "Epoch 24/100\n",
            "3/3 [==============================] - 0s 15ms/step - loss: 0.1787 - root_mean_squared_error_loss: 0.1947 - r_square_loss: 0.6098 - val_loss: 0.2571 - val_root_mean_squared_error_loss: 0.2571 - val_r_square_loss: 2.5176\n",
            "Epoch 25/100\n",
            "3/3 [==============================] - 0s 24ms/step - loss: 0.1781 - root_mean_squared_error_loss: 0.1822 - r_square_loss: 0.6690 - val_loss: 0.2570 - val_root_mean_squared_error_loss: 0.2570 - val_r_square_loss: 2.5169\n",
            "Epoch 26/100\n",
            "3/3 [==============================] - 0s 15ms/step - loss: 0.1765 - root_mean_squared_error_loss: 0.1758 - r_square_loss: 0.6240 - val_loss: 0.2590 - val_root_mean_squared_error_loss: 0.2590 - val_r_square_loss: 2.5559\n",
            "Epoch 27/100\n",
            "3/3 [==============================] - 0s 14ms/step - loss: 0.1757 - root_mean_squared_error_loss: 0.1632 - r_square_loss: 0.7357 - val_loss: 0.2732 - val_root_mean_squared_error_loss: 0.2732 - val_r_square_loss: 2.8428\n",
            "Epoch 28/100\n",
            "3/3 [==============================] - 0s 15ms/step - loss: 0.1746 - root_mean_squared_error_loss: 0.1589 - r_square_loss: 0.6419 - val_loss: 0.2722 - val_root_mean_squared_error_loss: 0.2722 - val_r_square_loss: 2.8225\n",
            "Epoch 29/100\n",
            "3/3 [==============================] - 0s 14ms/step - loss: 0.1746 - root_mean_squared_error_loss: 0.1771 - r_square_loss: 1.3501 - val_loss: 0.2833 - val_root_mean_squared_error_loss: 0.2833 - val_r_square_loss: 3.0576\n",
            "Epoch 30/100\n",
            "3/3 [==============================] - 0s 14ms/step - loss: 0.1743 - root_mean_squared_error_loss: 0.1601 - r_square_loss: 1.0212 - val_loss: 0.2842 - val_root_mean_squared_error_loss: 0.2842 - val_r_square_loss: 3.0778\n",
            "Epoch 31/100\n",
            "3/3 [==============================] - 0s 14ms/step - loss: 0.1742 - root_mean_squared_error_loss: 0.1809 - r_square_loss: 0.5989 - val_loss: 0.2805 - val_root_mean_squared_error_loss: 0.2805 - val_r_square_loss: 2.9969\n",
            "Epoch 32/100\n",
            "3/3 [==============================] - 0s 17ms/step - loss: 0.1721 - root_mean_squared_error_loss: 0.1878 - r_square_loss: 0.6456 - val_loss: 0.2653 - val_root_mean_squared_error_loss: 0.2653 - val_r_square_loss: 2.6808\n",
            "Epoch 33/100\n",
            "3/3 [==============================] - 0s 16ms/step - loss: 0.1693 - root_mean_squared_error_loss: 0.1834 - r_square_loss: 0.5570 - val_loss: 0.2601 - val_root_mean_squared_error_loss: 0.2601 - val_r_square_loss: 2.5768\n",
            "Epoch 34/100\n",
            "3/3 [==============================] - 0s 15ms/step - loss: 0.1677 - root_mean_squared_error_loss: 0.1777 - r_square_loss: 0.5349 - val_loss: 0.2485 - val_root_mean_squared_error_loss: 0.2485 - val_r_square_loss: 2.3531\n",
            "Epoch 35/100\n",
            "3/3 [==============================] - 0s 16ms/step - loss: 0.1665 - root_mean_squared_error_loss: 0.1607 - r_square_loss: 0.5196 - val_loss: 0.2409 - val_root_mean_squared_error_loss: 0.2409 - val_r_square_loss: 2.2109\n",
            "Epoch 36/100\n",
            "3/3 [==============================] - 0s 16ms/step - loss: 0.1658 - root_mean_squared_error_loss: 0.1589 - r_square_loss: 0.5281 - val_loss: 0.2320 - val_root_mean_squared_error_loss: 0.2320 - val_r_square_loss: 2.0496\n",
            "Epoch 37/100\n",
            "3/3 [==============================] - 0s 15ms/step - loss: 0.1653 - root_mean_squared_error_loss: 0.1579 - r_square_loss: 0.5582 - val_loss: 0.2369 - val_root_mean_squared_error_loss: 0.2369 - val_r_square_loss: 2.1387\n",
            "Epoch 38/100\n",
            "3/3 [==============================] - 0s 15ms/step - loss: 0.1636 - root_mean_squared_error_loss: 0.1726 - r_square_loss: 0.6436 - val_loss: 0.2424 - val_root_mean_squared_error_loss: 0.2424 - val_r_square_loss: 2.2385\n",
            "Epoch 39/100\n",
            "3/3 [==============================] - 0s 15ms/step - loss: 0.1627 - root_mean_squared_error_loss: 0.1550 - r_square_loss: 0.4831 - val_loss: 0.2425 - val_root_mean_squared_error_loss: 0.2425 - val_r_square_loss: 2.2400\n",
            "Epoch 40/100\n",
            "3/3 [==============================] - 0s 16ms/step - loss: 0.1615 - root_mean_squared_error_loss: 0.1577 - r_square_loss: 0.5075 - val_loss: 0.2441 - val_root_mean_squared_error_loss: 0.2441 - val_r_square_loss: 2.2694\n",
            "Epoch 41/100\n",
            "3/3 [==============================] - 0s 15ms/step - loss: 0.1602 - root_mean_squared_error_loss: 0.1685 - r_square_loss: 0.4775 - val_loss: 0.2471 - val_root_mean_squared_error_loss: 0.2471 - val_r_square_loss: 2.3251\n",
            "Epoch 42/100\n",
            "3/3 [==============================] - 0s 20ms/step - loss: 0.1594 - root_mean_squared_error_loss: 0.1507 - r_square_loss: 0.5518 - val_loss: 0.2314 - val_root_mean_squared_error_loss: 0.2314 - val_r_square_loss: 2.0403\n",
            "Epoch 43/100\n",
            "3/3 [==============================] - 0s 15ms/step - loss: 0.1555 - root_mean_squared_error_loss: 0.1631 - r_square_loss: 0.4417 - val_loss: 0.2329 - val_root_mean_squared_error_loss: 0.2329 - val_r_square_loss: 2.0657\n",
            "Epoch 44/100\n",
            "3/3 [==============================] - 0s 14ms/step - loss: 0.1570 - root_mean_squared_error_loss: 0.1560 - r_square_loss: 0.5366 - val_loss: 0.2392 - val_root_mean_squared_error_loss: 0.2392 - val_r_square_loss: 2.1799\n",
            "Epoch 45/100\n",
            "3/3 [==============================] - 0s 15ms/step - loss: 0.1546 - root_mean_squared_error_loss: 0.1460 - r_square_loss: 0.4369 - val_loss: 0.2350 - val_root_mean_squared_error_loss: 0.2350 - val_r_square_loss: 2.1030\n",
            "Epoch 46/100\n",
            "3/3 [==============================] - 0s 14ms/step - loss: 0.1547 - root_mean_squared_error_loss: 0.1622 - r_square_loss: 0.6109 - val_loss: 0.2456 - val_root_mean_squared_error_loss: 0.2456 - val_r_square_loss: 2.2983\n",
            "Epoch 47/100\n",
            "3/3 [==============================] - 0s 18ms/step - loss: 0.1541 - root_mean_squared_error_loss: 0.1444 - r_square_loss: 0.4291 - val_loss: 0.2381 - val_root_mean_squared_error_loss: 0.2381 - val_r_square_loss: 2.1593\n",
            "Epoch 48/100\n",
            "3/3 [==============================] - 0s 14ms/step - loss: 0.1529 - root_mean_squared_error_loss: 0.1594 - r_square_loss: 0.5184 - val_loss: 0.2426 - val_root_mean_squared_error_loss: 0.2426 - val_r_square_loss: 2.2429\n",
            "Epoch 49/100\n",
            "3/3 [==============================] - 0s 16ms/step - loss: 0.1521 - root_mean_squared_error_loss: 0.1388 - r_square_loss: 0.3949 - val_loss: 0.2402 - val_root_mean_squared_error_loss: 0.2402 - val_r_square_loss: 2.1983\n",
            "Epoch 50/100\n",
            "3/3 [==============================] - 0s 14ms/step - loss: 0.1517 - root_mean_squared_error_loss: 0.1581 - r_square_loss: 0.4790 - val_loss: 0.2299 - val_root_mean_squared_error_loss: 0.2299 - val_r_square_loss: 2.0133\n",
            "Epoch 51/100\n",
            "3/3 [==============================] - 0s 14ms/step - loss: 0.1497 - root_mean_squared_error_loss: 0.1539 - r_square_loss: 0.4305 - val_loss: 0.2293 - val_root_mean_squared_error_loss: 0.2293 - val_r_square_loss: 2.0023\n",
            "Epoch 52/100\n",
            "3/3 [==============================] - 0s 15ms/step - loss: 0.1492 - root_mean_squared_error_loss: 0.1493 - r_square_loss: 1.8981 - val_loss: 0.2359 - val_root_mean_squared_error_loss: 0.2359 - val_r_square_loss: 2.1208\n",
            "Epoch 53/100\n",
            "3/3 [==============================] - 0s 14ms/step - loss: 0.1485 - root_mean_squared_error_loss: 0.1637 - r_square_loss: 0.4931 - val_loss: 0.2440 - val_root_mean_squared_error_loss: 0.2440 - val_r_square_loss: 2.2675\n",
            "Epoch 54/100\n",
            "3/3 [==============================] - 0s 15ms/step - loss: 0.1485 - root_mean_squared_error_loss: 0.1646 - r_square_loss: 0.5640 - val_loss: 0.2484 - val_root_mean_squared_error_loss: 0.2484 - val_r_square_loss: 2.3510\n",
            "Epoch 55/100\n",
            "3/3 [==============================] - 0s 15ms/step - loss: 0.1488 - root_mean_squared_error_loss: 0.1502 - r_square_loss: 0.4442 - val_loss: 0.2288 - val_root_mean_squared_error_loss: 0.2288 - val_r_square_loss: 1.9944\n",
            "Epoch 56/100\n",
            "3/3 [==============================] - 0s 14ms/step - loss: 0.1453 - root_mean_squared_error_loss: 0.1675 - r_square_loss: 0.4463 - val_loss: 0.2193 - val_root_mean_squared_error_loss: 0.2193 - val_r_square_loss: 1.8316\n",
            "Epoch 57/100\n",
            "3/3 [==============================] - 0s 14ms/step - loss: 0.1454 - root_mean_squared_error_loss: 0.1580 - r_square_loss: 0.4490 - val_loss: 0.2164 - val_root_mean_squared_error_loss: 0.2164 - val_r_square_loss: 1.7845\n",
            "Epoch 58/100\n",
            "3/3 [==============================] - 0s 16ms/step - loss: 0.1448 - root_mean_squared_error_loss: 0.1428 - r_square_loss: 0.6961 - val_loss: 0.2264 - val_root_mean_squared_error_loss: 0.2264 - val_r_square_loss: 1.9532\n",
            "Epoch 59/100\n",
            "3/3 [==============================] - 0s 15ms/step - loss: 0.1431 - root_mean_squared_error_loss: 0.1403 - r_square_loss: 0.3564 - val_loss: 0.2154 - val_root_mean_squared_error_loss: 0.2154 - val_r_square_loss: 1.7677\n",
            "Epoch 60/100\n",
            "3/3 [==============================] - 0s 18ms/step - loss: 0.1430 - root_mean_squared_error_loss: 0.1493 - r_square_loss: 0.5914 - val_loss: 0.2247 - val_root_mean_squared_error_loss: 0.2247 - val_r_square_loss: 1.9226\n",
            "Epoch 61/100\n",
            "3/3 [==============================] - 0s 16ms/step - loss: 0.1425 - root_mean_squared_error_loss: 0.1403 - r_square_loss: 0.4034 - val_loss: 0.2261 - val_root_mean_squared_error_loss: 0.2261 - val_r_square_loss: 1.9473\n",
            "Epoch 62/100\n",
            "3/3 [==============================] - 0s 14ms/step - loss: 0.1406 - root_mean_squared_error_loss: 0.1154 - r_square_loss: 0.3415 - val_loss: 0.2144 - val_root_mean_squared_error_loss: 0.2144 - val_r_square_loss: 1.7519\n",
            "Epoch 63/100\n",
            "3/3 [==============================] - 0s 15ms/step - loss: 0.1380 - root_mean_squared_error_loss: 0.1631 - r_square_loss: 0.3965 - val_loss: 0.2103 - val_root_mean_squared_error_loss: 0.2103 - val_r_square_loss: 1.6843\n",
            "Epoch 64/100\n",
            "3/3 [==============================] - 0s 14ms/step - loss: 0.1406 - root_mean_squared_error_loss: 0.1337 - r_square_loss: 0.3663 - val_loss: 0.2019 - val_root_mean_squared_error_loss: 0.2019 - val_r_square_loss: 1.5536\n",
            "Epoch 65/100\n",
            "3/3 [==============================] - 0s 16ms/step - loss: 0.1400 - root_mean_squared_error_loss: 0.1230 - r_square_loss: 0.3287 - val_loss: 0.2088 - val_root_mean_squared_error_loss: 0.2088 - val_r_square_loss: 1.6601\n",
            "Epoch 66/100\n",
            "3/3 [==============================] - 0s 18ms/step - loss: 0.1383 - root_mean_squared_error_loss: 0.1388 - r_square_loss: 0.3502 - val_loss: 0.2122 - val_root_mean_squared_error_loss: 0.2122 - val_r_square_loss: 1.7147\n",
            "Epoch 67/100\n",
            "3/3 [==============================] - 0s 16ms/step - loss: 0.1375 - root_mean_squared_error_loss: 0.1248 - r_square_loss: 0.3410 - val_loss: 0.2103 - val_root_mean_squared_error_loss: 0.2103 - val_r_square_loss: 1.6855\n",
            "Epoch 68/100\n",
            "3/3 [==============================] - 0s 15ms/step - loss: 0.1370 - root_mean_squared_error_loss: 0.1458 - r_square_loss: 0.3800 - val_loss: 0.2190 - val_root_mean_squared_error_loss: 0.2190 - val_r_square_loss: 1.8271\n",
            "Epoch 69/100\n",
            "3/3 [==============================] - 0s 18ms/step - loss: 0.1364 - root_mean_squared_error_loss: 0.1451 - r_square_loss: 0.3757 - val_loss: 0.2209 - val_root_mean_squared_error_loss: 0.2209 - val_r_square_loss: 1.8595\n",
            "Epoch 70/100\n",
            "3/3 [==============================] - 0s 14ms/step - loss: 0.1361 - root_mean_squared_error_loss: 0.1423 - r_square_loss: 0.3774 - val_loss: 0.2113 - val_root_mean_squared_error_loss: 0.2113 - val_r_square_loss: 1.7011\n",
            "Epoch 71/100\n",
            "3/3 [==============================] - 0s 15ms/step - loss: 0.1347 - root_mean_squared_error_loss: 0.1454 - r_square_loss: 0.4918 - val_loss: 0.2155 - val_root_mean_squared_error_loss: 0.2155 - val_r_square_loss: 1.7693\n",
            "Epoch 72/100\n",
            "3/3 [==============================] - 0s 15ms/step - loss: 0.1350 - root_mean_squared_error_loss: 0.1456 - r_square_loss: 0.4546 - val_loss: 0.2000 - val_root_mean_squared_error_loss: 0.2000 - val_r_square_loss: 1.5233\n",
            "Epoch 73/100\n",
            "3/3 [==============================] - 0s 14ms/step - loss: 0.1344 - root_mean_squared_error_loss: 0.1473 - r_square_loss: 0.3557 - val_loss: 0.2048 - val_root_mean_squared_error_loss: 0.2048 - val_r_square_loss: 1.5984\n",
            "Epoch 74/100\n",
            "3/3 [==============================] - 0s 16ms/step - loss: 0.1334 - root_mean_squared_error_loss: 0.1233 - r_square_loss: 0.2999 - val_loss: 0.2128 - val_root_mean_squared_error_loss: 0.2128 - val_r_square_loss: 1.7248\n",
            "Epoch 75/100\n",
            "3/3 [==============================] - 0s 16ms/step - loss: 0.1323 - root_mean_squared_error_loss: 0.1218 - r_square_loss: 0.3552 - val_loss: 0.2033 - val_root_mean_squared_error_loss: 0.2033 - val_r_square_loss: 1.5738\n",
            "Epoch 76/100\n",
            "3/3 [==============================] - 0s 16ms/step - loss: 0.1324 - root_mean_squared_error_loss: 0.1327 - r_square_loss: 0.4800 - val_loss: 0.2188 - val_root_mean_squared_error_loss: 0.2188 - val_r_square_loss: 1.8243\n",
            "Epoch 77/100\n",
            "3/3 [==============================] - 0s 17ms/step - loss: 0.1292 - root_mean_squared_error_loss: 0.1640 - r_square_loss: 0.4129 - val_loss: 0.2004 - val_root_mean_squared_error_loss: 0.2004 - val_r_square_loss: 1.5297\n",
            "Epoch 78/100\n",
            "3/3 [==============================] - 0s 20ms/step - loss: 0.1299 - root_mean_squared_error_loss: 0.1372 - r_square_loss: 0.3661 - val_loss: 0.2103 - val_root_mean_squared_error_loss: 0.2103 - val_r_square_loss: 1.6850\n",
            "Epoch 79/100\n",
            "3/3 [==============================] - 0s 18ms/step - loss: 0.1286 - root_mean_squared_error_loss: 0.1060 - r_square_loss: 0.2826 - val_loss: 0.2087 - val_root_mean_squared_error_loss: 0.2087 - val_r_square_loss: 1.6594\n",
            "Epoch 80/100\n",
            "3/3 [==============================] - 0s 18ms/step - loss: 0.1299 - root_mean_squared_error_loss: 0.1354 - r_square_loss: 0.3485 - val_loss: 0.2060 - val_root_mean_squared_error_loss: 0.2060 - val_r_square_loss: 1.6162\n",
            "Epoch 81/100\n",
            "3/3 [==============================] - 0s 16ms/step - loss: 0.1294 - root_mean_squared_error_loss: 0.1168 - r_square_loss: 0.3971 - val_loss: 0.1857 - val_root_mean_squared_error_loss: 0.1857 - val_r_square_loss: 1.3144\n",
            "Epoch 82/100\n",
            "3/3 [==============================] - 0s 19ms/step - loss: 0.1297 - root_mean_squared_error_loss: 0.1374 - r_square_loss: 0.4191 - val_loss: 0.1779 - val_root_mean_squared_error_loss: 0.1779 - val_r_square_loss: 1.2051\n",
            "Epoch 83/100\n",
            "3/3 [==============================] - 0s 17ms/step - loss: 0.1303 - root_mean_squared_error_loss: 0.1479 - r_square_loss: 0.3702 - val_loss: 0.1852 - val_root_mean_squared_error_loss: 0.1852 - val_r_square_loss: 1.3067\n",
            "Epoch 84/100\n",
            "3/3 [==============================] - 0s 19ms/step - loss: 0.1289 - root_mean_squared_error_loss: 0.1220 - r_square_loss: 0.2936 - val_loss: 0.1857 - val_root_mean_squared_error_loss: 0.1857 - val_r_square_loss: 1.3140\n",
            "Epoch 85/100\n",
            "3/3 [==============================] - 0s 15ms/step - loss: 0.1285 - root_mean_squared_error_loss: 0.1172 - r_square_loss: 0.3377 - val_loss: 0.1790 - val_root_mean_squared_error_loss: 0.1790 - val_r_square_loss: 1.2200\n",
            "Epoch 86/100\n",
            "3/3 [==============================] - 0s 16ms/step - loss: 0.1279 - root_mean_squared_error_loss: 0.1531 - r_square_loss: 0.9599 - val_loss: 0.2009 - val_root_mean_squared_error_loss: 0.2009 - val_r_square_loss: 1.5382\n",
            "Epoch 87/100\n",
            "3/3 [==============================] - 0s 18ms/step - loss: 0.1259 - root_mean_squared_error_loss: 0.1218 - r_square_loss: 0.2810 - val_loss: 0.1924 - val_root_mean_squared_error_loss: 0.1924 - val_r_square_loss: 1.4103\n",
            "Epoch 88/100\n",
            "3/3 [==============================] - 0s 14ms/step - loss: 0.1269 - root_mean_squared_error_loss: 0.1177 - r_square_loss: 0.2940 - val_loss: 0.1843 - val_root_mean_squared_error_loss: 0.1843 - val_r_square_loss: 1.2942\n",
            "Epoch 89/100\n",
            "3/3 [==============================] - 0s 14ms/step - loss: 0.1256 - root_mean_squared_error_loss: 0.1112 - r_square_loss: 0.2725 - val_loss: 0.1802 - val_root_mean_squared_error_loss: 0.1802 - val_r_square_loss: 1.2374\n",
            "Epoch 90/100\n",
            "3/3 [==============================] - 0s 14ms/step - loss: 0.1270 - root_mean_squared_error_loss: 0.1199 - r_square_loss: 0.3465 - val_loss: 0.1716 - val_root_mean_squared_error_loss: 0.1716 - val_r_square_loss: 1.1213\n",
            "Epoch 91/100\n",
            "3/3 [==============================] - 0s 14ms/step - loss: 0.1272 - root_mean_squared_error_loss: 0.1074 - r_square_loss: 0.2541 - val_loss: 0.1867 - val_root_mean_squared_error_loss: 0.1867 - val_r_square_loss: 1.3273\n",
            "Epoch 92/100\n",
            "3/3 [==============================] - 0s 19ms/step - loss: 0.1248 - root_mean_squared_error_loss: 0.1179 - r_square_loss: 0.3776 - val_loss: 0.1827 - val_root_mean_squared_error_loss: 0.1827 - val_r_square_loss: 1.2717\n",
            "Epoch 93/100\n",
            "3/3 [==============================] - 0s 16ms/step - loss: 0.1246 - root_mean_squared_error_loss: 0.1164 - r_square_loss: 0.2547 - val_loss: 0.1858 - val_root_mean_squared_error_loss: 0.1858 - val_r_square_loss: 1.3154\n",
            "Epoch 94/100\n",
            "3/3 [==============================] - 0s 15ms/step - loss: 0.1238 - root_mean_squared_error_loss: 0.1095 - r_square_loss: 1.4509 - val_loss: 0.1926 - val_root_mean_squared_error_loss: 0.1926 - val_r_square_loss: 1.4138\n",
            "Epoch 95/100\n",
            "3/3 [==============================] - 0s 17ms/step - loss: 0.1241 - root_mean_squared_error_loss: 0.1284 - r_square_loss: 0.3360 - val_loss: 0.1890 - val_root_mean_squared_error_loss: 0.1890 - val_r_square_loss: 1.3608\n",
            "Epoch 96/100\n",
            "3/3 [==============================] - 0s 17ms/step - loss: 0.1221 - root_mean_squared_error_loss: 0.1463 - r_square_loss: 0.6714 - val_loss: 0.1997 - val_root_mean_squared_error_loss: 0.1997 - val_r_square_loss: 1.5194\n",
            "Epoch 97/100\n",
            "3/3 [==============================] - 0s 18ms/step - loss: 0.1239 - root_mean_squared_error_loss: 0.1134 - r_square_loss: 0.2718 - val_loss: 0.1865 - val_root_mean_squared_error_loss: 0.1865 - val_r_square_loss: 1.3253\n",
            "Epoch 98/100\n",
            "3/3 [==============================] - 0s 16ms/step - loss: 0.1219 - root_mean_squared_error_loss: 0.1421 - r_square_loss: 0.3220 - val_loss: 0.1792 - val_root_mean_squared_error_loss: 0.1792 - val_r_square_loss: 1.2231\n",
            "Epoch 99/100\n",
            "3/3 [==============================] - 0s 16ms/step - loss: 0.1208 - root_mean_squared_error_loss: 0.1443 - r_square_loss: 0.6360 - val_loss: 0.1873 - val_root_mean_squared_error_loss: 0.1873 - val_r_square_loss: 1.3371\n",
            "Epoch 100/100\n",
            "3/3 [==============================] - 0s 17ms/step - loss: 0.1239 - root_mean_squared_error_loss: 0.1323 - r_square_loss: 0.3441 - val_loss: 0.1882 - val_root_mean_squared_error_loss: 0.1882 - val_r_square_loss: 1.3489\n"
          ]
        }
      ]
    },
    {
      "cell_type": "code",
      "metadata": {
        "colab": {
          "base_uri": "https://localhost:8080/",
          "height": 295
        },
        "id": "asnPhM-rZnZt",
        "outputId": "9635c8c6-4455-41b0-b32e-aa0f8b6991ea"
      },
      "source": [
        "plt.plot(historyNN.history['loss'])\n",
        "plt.plot(historyNN.history['val_loss'])\n",
        "plt.title('Model Loss Plot')\n",
        "plt.ylabel('Loss')\n",
        "plt.xlabel('Epoch')\n",
        "plt.legend(['Train','Validation'],loc = 'upper right')\n",
        "plt.show()\n"
      ],
      "execution_count": null,
      "outputs": [
        {
          "data": {
            "image/png": "[encoded data removed]",
            "text/plain": [
              "<Figure size 432x288 with 1 Axes>"
            ]
          },
          "metadata": {},
          "output_type": "display_data"
        }
      ]
    },
    {
      "cell_type": "code",
      "metadata": {
        "colab": {
          "base_uri": "https://localhost:8080/"
        },
        "id": "8P4fVvWYeWd9",
        "outputId": "308ab3c1-7951-4785-d665-97ab92460cb1"
      },
      "source": [
        "lossNN = model.evaluate(testX , testY)"
      ],
      "execution_count": null,
      "outputs": [
        {
          "name": "stdout",
          "output_type": "stream",
          "text": [
            "1/1 [==============================] - 0s 22ms/step - loss: 0.1594 - root_mean_squared_error_loss: 0.1594 - r_square_loss: 0.7135\n"
          ]
        }
      ]
    },
    {
      "cell_type": "code",
      "metadata": {
        "colab": {
          "base_uri": "https://localhost:8080/"
        },
        "id": "iBFio0yxejHl",
        "outputId": "e46439eb-5404-41a6-f9bb-a6f1e07543c8"
      },
      "source": [
        "print('loss output for test data is: %f' % lossNN[0])"
      ],
      "execution_count": null,
      "outputs": [
        {
          "name": "stdout",
          "output_type": "stream",
          "text": [
            "loss output for test data is: 0.159444\n"
          ]
        }
      ]
    },
    {
      "cell_type": "code",
      "metadata": {
        "id": "c-4wor9Ve2dc"
      },
      "source": [
        "predictY = model.predict(testX)\n"
      ],
      "execution_count": null,
      "outputs": []
    },
    {
      "cell_type": "code",
      "metadata": {
        "colab": {
          "base_uri": "https://localhost:8080/",
          "height": 279
        },
        "id": "O-Uy983qe-cq",
        "outputId": "286d8a7f-798a-4bd6-fd1c-802a58a0d306"
      },
      "source": [
        "time = np.arange(predictY.shape[0])\n",
        "\n",
        "plt.plot(time,predictY,testY)\n",
        "plt.xlabel('time')\n",
        "plt.ylabel('amplitude')\n",
        "plt.legend(['Time','amplitude'],loc = 'upper right')\n",
        "\n",
        "plt.show()\n"
      ],
      "execution_count": null,
      "outputs": [
        {
          "data": {
            "image/png": "[encoded data removed]",
            "text/plain": [
              "<Figure size 432x288 with 1 Axes>"
            ]
          },
          "metadata": {},
          "output_type": "display_data"
        }
      ]
    },
    {
      "cell_type": "code",
      "metadata": {
        "colab": {
          "background_save": true
        },
        "id": "FCpy5-ScfaU9"
      },
      "source": [
        "import pyswarms as ps\n",
        "from pyswarms.utils.functions import single_obj as fx\n",
        "from pyswarms.utils.plotters import plot_cost_history, plot_contour, plot_surface\n",
        "\n",
        "mode1 = Sequential()\n",
        "mode1.add(LSTM(9,return_sequences=False,input_shape = (None,1), name = 'layer_1'))\n",
        "mode1.add(Dense(1, activation='linear',name = 'layer_2'))\n",
        "options = {'c1':0.5, 'c2':0.5,'w':0.6}\n"
      ],
      "execution_count": null,
      "outputs": []
    },
    {
      "cell_type": "code",
      "metadata": {
        "colab": {
          "base_uri": "https://localhost:8080/"
        },
        "id": "P8rPwQrLmo6U",
        "outputId": "05fac678-8814-4b0a-9224-b31df4b66adc"
      },
      "source": [
        "layer_1 = mode1.get_layer('layer_1').get_weights()\n",
        "layer_2 = mode1.get_layer('layer_2').get_weights()\n",
        "\n",
        "dimensions=((layer_1[0].shape[0])* (layer_1[0].shape[1])) + ((layer_1[0].shape[0])*(layer_1[0].shape[1]))+((layer_1[1].shape[0])*(layer_1[1].shape[1]))\n",
        "print(\"number of neuralnetwork paramters %d\" % dimensions)"
      ],
      "execution_count": null,
      "outputs": [
        {
          "name": "stdout",
          "output_type": "stream",
          "text": [
            "number of neuralnetwork paramters 396\n"
          ]
        }
      ]
    },
    {
      "cell_type": "code",
      "metadata": {
        "colab": {
          "base_uri": "https://localhost:8080/",
          "height": 1000
        },
        "id": "p7irwki08CsI",
        "outputId": "cc5bbd2e-f79d-47a7-8d0d-1174b532795b"
      },
      "source": [
        "optimizer = ps.single.GlobalBestPSO(n_particles=20, dimensions=dimensions, options=options)\n",
        "cost,pos= optimizer.optimize(fx.sphere, iters=200)\n",
        "# Plot the cost\n",
        "plot_cost_history(optimizer.cost_history)\n",
        "plt.show()"
      ],
      "execution_count": null,
      "outputs": [
        {
          "name": "stderr",
          "output_type": "stream",
          "text": [
            "2021-10-13 06:50:20,131 - pyswarms.single.global_best - INFO - Optimize for 200 iters with {'c1': 0.5, 'c2': 0.5, 'w': 0.6}\n",
            "pyswarms.single.global_best: 100%|██████████|200/200, best_cost=36.2\n",
            "2021-10-13 06:50:20,903 - pyswarms.single.global_best - INFO - Optimization finished | best cost: 36.18531367483097, best pos: [ 0.24090818  0.42590413  0.27794612  0.22819181  0.04313599  0.08229531\n",
            "  0.26770307  0.03259556 -0.35253122 -0.01181141 -0.12799318  0.21987847\n",
            "  0.14231524 -0.03156091  0.04429416  0.4866527   0.16833371 -0.09392857\n",
            "  0.26575359  0.02418158  0.46031368  0.26559061 -0.05398467  0.22086833\n",
            " -0.03627511  0.32195862  0.25690484  0.07638783 -0.12599144  0.26114566\n",
            "  0.56008684  0.26530489  0.3362877   0.39874019  0.50358569  0.23660989\n",
            " -0.11173336  0.57755953  0.11433377 -0.04411772  0.50953056 -0.01562029\n",
            " -0.04002522  0.3062497   0.33420375  0.27829651  0.22424719  0.63643957\n",
            "  0.08175002  0.51210644  0.29210152  0.08186437  0.46223603  0.31763875\n",
            "  0.28494192  0.40082177  0.48445868  0.07237478  0.29303643  0.59658641\n",
            "  0.44176899  0.00221573  0.17907857  0.22590018 -0.30226785 -0.11237641\n",
            "  0.23722214 -0.06643812  0.20989219  0.39708626 -0.01744512 -0.14817501\n",
            "  0.13809616 -0.3637696  -0.20373516  0.18054367  0.2515679  -0.2620332\n",
            " -0.0471758   0.05404557 -0.17151932 -0.08972969  0.1207638  -0.09187492\n",
            "  0.21991952  0.21613823  0.14373914  0.39616262 -0.19180115 -0.02015287\n",
            "  0.17121557  0.30748931  0.1254213   0.03435598  0.19214539  0.31952509\n",
            "  0.4926394   0.3931017   0.0340884   0.18022419 -0.00993741  0.13682166\n",
            " -0.17301718  0.62152027 -0.05488875 -0.13785247  0.20443153  0.2640568\n",
            " -0.10366034  0.06436953  0.37355022  0.36434004  0.21826587 -0.32123832\n",
            "  0.16168135  0.6454065   0.74214833  0.42631527  0.33497869  0.26156899\n",
            " -0.05297598  0.21910765  0.74578878  0.26842066  0.27049225  0.04107377\n",
            "  0.04258319  0.25268113  0.3356168   0.67254298 -0.11706775  0.09929123\n",
            "  0.10739708  0.23345203  0.60093621  0.16298834  0.20752147  0.03217586\n",
            "  0.05854809  0.26931551  0.04241962 -0.02135081 -0.02396017  0.42664946\n",
            "  0.08034183 -0.19036309  0.37266673  0.4486165   0.05208972  0.34999873\n",
            " -0.25711901 -0.11387872  0.04866198  0.2815078   0.29921125 -0.29001939\n",
            "  0.11461153 -0.10480724  0.18001042  0.59183482 -0.09537626 -0.05771937\n",
            "  0.49772619  0.26677004  0.12498265  0.44449707  0.36601302  0.0148497\n",
            "  0.22513537  0.61776555  0.50270384  0.00916552  0.20051079  0.11890293\n",
            "  0.15182097  0.20379011  0.34640155  0.42254736 -0.29472     0.01728961\n",
            "  0.36594486 -0.02635932  0.11607864  0.40879181  0.44312551  0.27330522\n",
            "  0.26603833  0.10521668 -0.29310164  0.07444904  0.34878149  0.02705122\n",
            "  0.32850123 -0.13211177  0.37424518  0.26830267 -0.08300009  0.09185337\n",
            "  0.39680798  0.27439988  0.75001409  0.3841853  -0.13344012  0.18444239\n",
            "  0.1388368   0.37208334  0.43315513  0.26901944  0.48488067 -0.00830477\n",
            " -0.18298531  0.35749145  0.40919129  0.2549359  -0.21553865  0.25292162\n",
            "  0.18216738  0.40106935  0.00853532 -0.25715259  0.22046142 -0.14981452\n",
            " -0.09765014  0.32514003  0.06002125  0.08453454  0.30734737  0.00658792\n",
            "  0.26601161  0.12425117  0.57266553  0.61845598  0.67543485  0.35376705\n",
            "  0.2060129  -0.06709923  0.04867583  0.20175996  0.215546    0.3734151\n",
            "  0.3528788   0.19530793  0.3394245   0.40430361 -0.14978194  0.12560012\n",
            " -0.04050464  0.21869508  0.03702713  0.22894196  0.8898968   0.42711064\n",
            "  0.2121507   0.49564253  0.16248407  0.29890241 -0.19671949  0.10141553\n",
            "  0.31015259  0.14096008  0.60085907  0.18949512  0.2187713   0.50919545\n",
            "  0.14471286  0.55053202  0.31807207 -0.35041448  0.22296853  0.0916842\n",
            "  0.16162236  0.51600501  0.32550191 -0.25281499  0.11522581 -0.16626557\n",
            " -0.00380517  0.63691559  0.16567022  0.48238346 -0.06262305  0.56716343\n",
            "  0.674392    0.33664637  0.53838041  0.14666255  0.28460544  0.42436511\n",
            "  0.26172707  0.75665037  0.14819474 -0.04451853  0.24067044  0.09985874\n",
            "  0.4257469   0.14095978  0.36994178  0.12757363 -0.15448988  0.26848881\n",
            "  0.08228505  0.28992979  0.43853827  0.48713585  0.25245925  0.30199641\n",
            "  0.57373324  0.15800375  0.49098006  0.35139441 -0.14235368  0.31763839\n",
            "  0.12785001  0.07156275  0.51952367  0.13165411  0.41060449  0.39954874\n",
            "  0.22046456  0.08398676  0.12596794  0.17587689  0.25458702  0.23733318\n",
            "  0.06384713 -0.04913218 -0.16947152 -0.01216207 -0.2868384   0.0802474\n",
            "  0.14298728 -0.02278192  0.67643489  0.3203228   0.30001079 -0.03433705\n",
            " -0.16576978 -0.11388309  0.32609949  0.58334288  0.56608595  0.15055568\n",
            "  0.09248092  0.21494873 -0.30218857  0.37117878  0.05634875  0.22055567\n",
            " -0.03836895 -0.04970018  0.21131785  0.67390385  0.05944306 -0.13068688\n",
            "  0.18279707  0.364535    0.50898199  0.14231303  0.30945248  0.09929348\n",
            "  0.05172515  0.14385008  0.59682187  0.16692073 -0.40152378  0.12705551\n",
            "  0.2992243   0.06613319  0.74463262 -0.08487854  0.13230983 -0.07910747\n",
            "  0.28664185  0.3017163  -0.13516539  0.09238812 -0.02463718  0.25729781\n",
            " -0.15747289  0.09759164  0.1287913   0.09203857  0.36411339  0.1696\n",
            "  0.07873588  0.336006   -0.0995596   0.13604061  0.00484896  0.00326593\n",
            "  0.15464126 -0.01437829  0.51628144  0.59290303  0.0905407   0.29704303]\n"
          ]
        },
        {
          "data": {
            "image/png": "[encoded data removed]",
            "text/plain": [
              "<Figure size 720x576 with 1 Axes>"
            ]
          },
          "metadata": {},
          "output_type": "display_data"
        }
      ]
    },
    {
      "cell_type": "code",
      "metadata": {
        "id": "l6o5osRW6oBg"
      },
      "source": [
        ""
      ],
      "execution_count": null,
      "outputs": []
    },
    {
      "cell_type": "code",
      "metadata": {
        "colab": {
          "base_uri": "https://localhost:8080/"
        },
        "id": "ZvX5kolmZaBW",
        "outputId": "c2e7f611-a666-4420-825d-733650d16601"
      },
      "source": [
        "pip install pyswarms\n"
      ],
      "execution_count": null,
      "outputs": [
        {
          "name": "stdout",
          "output_type": "stream",
          "text": [
            "Collecting pyswarms\n",
            "  Downloading pyswarms-1.3.0-py2.py3-none-any.whl (104 kB)\n",
            "\u001b[?25l\r\u001b[K     |███▏                            | 10 kB 18.4 MB/s eta 0:00:01\r\u001b[K     |██████▎                         | 20 kB 11.4 MB/s eta 0:00:01\r\u001b[K     |█████████▍                      | 30 kB 9.7 MB/s eta 0:00:01\r\u001b[K     |████████████▋                   | 40 kB 7.2 MB/s eta 0:00:01\r\u001b[K     |███████████████▊                | 51 kB 5.1 MB/s eta 0:00:01\r\u001b[K     |██████████████████▉             | 61 kB 5.3 MB/s eta 0:00:01\r\u001b[K     |██████████████████████          | 71 kB 5.3 MB/s eta 0:00:01\r\u001b[K     |█████████████████████████▏      | 81 kB 5.9 MB/s eta 0:00:01\r\u001b[K     |████████████████████████████▎   | 92 kB 5.6 MB/s eta 0:00:01\r\u001b[K     |███████████████████████████████▌| 102 kB 5.1 MB/s eta 0:00:01\r\u001b[K     |████████████████████████████████| 104 kB 5.1 MB/s \n",
            "\u001b[?25hRequirement already satisfied: scipy in /usr/local/lib/python3.7/dist-packages (from pyswarms) (1.4.1)\n",
            "Requirement already satisfied: numpy in /usr/local/lib/python3.7/dist-packages (from pyswarms) (1.19.5)\n",
            "Requirement already satisfied: pyyaml in /usr/local/lib/python3.7/dist-packages (from pyswarms) (3.13)\n",
            "Requirement already satisfied: future in /usr/local/lib/python3.7/dist-packages (from pyswarms) (0.16.0)\n",
            "Requirement already satisfied: attrs in /usr/local/lib/python3.7/dist-packages (from pyswarms) (21.2.0)\n",
            "Requirement already satisfied: tqdm in /usr/local/lib/python3.7/dist-packages (from pyswarms) (4.62.3)\n",
            "Requirement already satisfied: matplotlib>=1.3.1 in /usr/local/lib/python3.7/dist-packages (from pyswarms) (3.2.2)\n",
            "Requirement already satisfied: kiwisolver>=1.0.1 in /usr/local/lib/python3.7/dist-packages (from matplotlib>=1.3.1->pyswarms) (1.3.2)\n",
            "Requirement already satisfied: python-dateutil>=2.1 in /usr/local/lib/python3.7/dist-packages (from matplotlib>=1.3.1->pyswarms) (2.8.2)\n",
            "Requirement already satisfied: pyparsing!=2.0.4,!=2.1.2,!=2.1.6,>=2.0.1 in /usr/local/lib/python3.7/dist-packages (from matplotlib>=1.3.1->pyswarms) (2.4.7)\n",
            "Requirement already satisfied: cycler>=0.10 in /usr/local/lib/python3.7/dist-packages (from matplotlib>=1.3.1->pyswarms) (0.10.0)\n",
            "Requirement already satisfied: six in /usr/local/lib/python3.7/dist-packages (from cycler>=0.10->matplotlib>=1.3.1->pyswarms) (1.15.0)\n",
            "Installing collected packages: pyswarms\n",
            "Successfully installed pyswarms-1.3.0\n"
          ]
        }
      ]
    },
    {
      "cell_type": "code",
      "metadata": {
        "id": "GTu2kp4He14C"
      },
      "source": [
        ""
      ],
      "execution_count": null,
      "outputs": []
    },
    {
      "cell_type": "code",
      "metadata": {
        "colab": {
          "base_uri": "https://localhost:8080/",
          "height": 581
        },
        "id": "dMT96-XuDmXA",
        "outputId": "c51cfc88-8194-4093-c356-5c07475db22a"
      },
      "source": [
        "optimizer.optimize(fx.sphere, iters=100)\n",
        "# Plot the cost\n",
        "plot_cost_history(optimizer.cost_history)\n",
        "plt.show()"
      ],
      "execution_count": null,
      "outputs": [
        {
          "name": "stderr",
          "output_type": "stream",
          "text": [
            "2021-10-13 05:10:41,324 - pyswarms.single.global_best - INFO - Optimize for 100 iters with {'c1': 0.5, 'c2': 0.3, 'w': 0.9}\n",
            "pyswarms.single.global_best: 100%|██████████|100/100, best_cost=7.85e-12\n",
            "2021-10-13 05:10:41,589 - pyswarms.single.global_best - INFO - Optimization finished | best cost: 7.85397740195621e-12, best pos: [ 2.47883973e-06  1.06895066e-07 -1.04015704e-06  7.76973564e-07\n",
            "  1.10859628e-07]\n"
          ]
        },
        {
          "data": {
            "image/png": "[encoded data removed]",
            "text/plain": [
              "<Figure size 720x576 with 1 Axes>"
            ]
          },
          "metadata": {},
          "output_type": "display_data"
        }
      ]
    }
  ]
}